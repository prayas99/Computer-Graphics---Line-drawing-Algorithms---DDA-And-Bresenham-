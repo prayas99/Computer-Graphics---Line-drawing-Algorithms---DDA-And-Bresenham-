{
  "nbformat": 4,
  "nbformat_minor": 0,
  "metadata": {
    "colab": {
      "name": "DDA_Bresenham_Algo.ipynb",
      "provenance": [],
      "collapsed_sections": [
        "3rp-poJfSMJf",
        "9TpHv9_zS1iK",
        "C8LVdUuhcHkH"
      ],
      "include_colab_link": true
    },
    "kernelspec": {
      "name": "python3",
      "display_name": "Python 3"
    },
    "language_info": {
      "name": "python"
    }
  },
  "cells": [
    {
      "cell_type": "markdown",
      "metadata": {
        "id": "view-in-github",
        "colab_type": "text"
      },
      "source": [
        "<a href=\"https://colab.research.google.com/github/prayas99/Computer-Graphics---Line-drawing-Algorithms---DDA-And-Bresenham-/blob/main/DDA_Bresenham_Algo.ipynb\" target=\"_parent\"><img src=\"https://colab.research.google.com/assets/colab-badge.svg\" alt=\"Open In Colab\"/></a>"
      ]
    },
    {
      "cell_type": "markdown",
      "metadata": {
        "id": "3rp-poJfSMJf"
      },
      "source": [
        "# DDA Algo"
      ]
    },
    {
      "cell_type": "code",
      "metadata": {
        "id": "nKqkrmt_ifX8"
      },
      "source": [
        "import numpy as np\n",
        "import matplotlib.pyplot as plt\n",
        "def DDA(x1,y1,x2,y2):\n",
        "  x = []\n",
        "  y = []\n",
        "  x_t = x1\n",
        "  y_t = y1\n",
        "  x.append(x_t)\n",
        "  y.append(y_t)\n",
        "  m = ((y2-y1)/(x2-x1))\n",
        "  plt.scatter(x_t,y_t,s=500)\n",
        "  while (x_t < x2):\n",
        "    x_t = x_t + 1\n",
        "    x.append(x_t)\n",
        "    y_t = round(y_t + m,2)\n",
        "    y.append(y_t)\n",
        "    #print(x_t,y_t)\n",
        "    plt.xlim([0, 15])\n",
        "    plt.ylim([0,10])\n",
        "    plt.scatter(x_t,int(y_t),s=500)\n",
        "  m, b = np.polyfit(x, y, 1)\n",
        "  m = round(m,2)\n",
        "  b = round(b,2)\n",
        "  x = np.array(x)\n",
        "  y = np.array(y)\n",
        "  plt.plot(x, m*x + b)\n",
        "  plt.show()"
      ],
      "execution_count": null,
      "outputs": []
    },
    {
      "cell_type": "code",
      "metadata": {
        "colab": {
          "base_uri": "https://localhost:8080/",
          "height": 269
        },
        "id": "RuuUGwRjXHHB",
        "outputId": "8db647c5-73af-4cd0-eaa7-67f483460887"
      },
      "source": [
        "DDA(2,2,12,5)"
      ],
      "execution_count": null,
      "outputs": [
        {
          "output_type": "display_data",
          "data": {
            "image/png": "[encoded data removed]",
            "text/plain": [
              "<Figure size 432x288 with 1 Axes>"
            ]
          },
          "metadata": {
            "tags": [],
            "needs_background": "light"
          }
        }
      ]
    },
    {
      "cell_type": "markdown",
      "metadata": {
        "id": "9TpHv9_zS1iK"
      },
      "source": [
        "# Bressenham's Algo."
      ]
    },
    {
      "cell_type": "code",
      "metadata": {
        "id": "Ak3S9V2eFLUo"
      },
      "source": [
        "def BA(x1,y1,x2,y2):\n",
        "  e = -0.5\n",
        "  m = ((y2-y1)/(x2-x1))\n",
        "  x = []\n",
        "  y = []\n",
        "  x_t = x1\n",
        "  y_t = y1\n",
        "  x.append(x_t)\n",
        "  y.append(y_t)\n",
        "  fig = plt.figure()\n",
        "  ax = fig.gca()\n",
        "  ax.set_xticks(np.arange(0, 16, 1))\n",
        "  ax.set_yticks(np.arange(0, 11,1))\n",
        "  plt.scatter(x_t,y_t,s=300)\n",
        "  while (x_t < x2):\n",
        "    x_t = x_t+1\n",
        "    x.append(x_t)\n",
        "    e = round(e+m,2)\n",
        "    if (e < 0):\n",
        "      y_t = y_t\n",
        "      y.append(y_t)\n",
        "    else :\n",
        "      y_t = y_t+1\n",
        "      y.append(y_t)\n",
        "      e = e-1\n",
        "  m, b = np.polyfit(x, y, 1)\n",
        "  m = round(m,2)\n",
        "  b = round(b,2)\n",
        "  x = np.array(x)\n",
        "  y = np.array(y)\n",
        "  #plt.plot(x, m*x + b,color='g')\n",
        "  plt.xlim([0, 15])\n",
        "  plt.ylim([0,10])\n",
        "  point1 = [2, 2]\n",
        "  point2 = [12,5]\n",
        "  x_values = [point1[0], point2[0]]\n",
        "  y_values = [point1[1], point2[1]]\n",
        "  plt.plot(x_values, y_values,color='r')\n",
        "  plt.scatter(x,y,s=300,color='y')\n",
        "  plt.grid()\n",
        "  plt.show()"
      ],
      "execution_count": null,
      "outputs": []
    },
    {
      "cell_type": "code",
      "metadata": {
        "colab": {
          "base_uri": "https://localhost:8080/",
          "height": 269
        },
        "id": "R6BI_lV0FLIv",
        "outputId": "6522d0b0-0951-422d-95da-b9a02fd1c0cb"
      },
      "source": [
        "BA(2,2,12,5)"
      ],
      "execution_count": null,
      "outputs": [
        {
          "output_type": "display_data",
          "data": {
            "image/png": "[encoded data removed]",
            "text/plain": [
              "<Figure size 432x288 with 1 Axes>"
            ]
          },
          "metadata": {
            "tags": [],
            "needs_background": "light"
          }
        }
      ]
    },
    {
      "cell_type": "markdown",
      "metadata": {
        "id": "C8LVdUuhcHkH"
      },
      "source": [
        "# More examples"
      ]
    },
    {
      "cell_type": "code",
      "metadata": {
        "colab": {
          "base_uri": "https://localhost:8080/",
          "height": 269
        },
        "id": "LG0n1WF9c5Z0",
        "outputId": "a17c2d30-f650-4c09-ba3a-b1f0170931f7"
      },
      "source": [
        "import numpy as np\n",
        "import seaborn as sns\n",
        "def DDA(x1,y1,x2,y2):\n",
        "  x = []\n",
        "  y = []\n",
        "  x_t = x1\n",
        "  y_t = y1\n",
        "  x.append(x_t)\n",
        "  y.append(y_t)\n",
        "  m = ((y2-y1)/(x2-x1))\n",
        "  fig = plt.figure()\n",
        "  ax = fig.gca()\n",
        "  ax.set_xticks(np.arange(0, 16, 1))\n",
        "  ax.set_yticks(np.arange(0, 11,1))\n",
        "  plt.scatter(x_t,y_t,s=500)\n",
        "  #cmap = colors.ListedColormap(['red', 'blue'])\n",
        "  while (x_t < x2):\n",
        "    x_t = x_t + 1\n",
        "    x.append(x_t)\n",
        "    y_t = round(y_t + m,2)\n",
        "    y.append(y_t)\n",
        "    #print(x_t,y_t)\n",
        "    plt.xlim([0, 15])\n",
        "    plt.ylim([0,10])\n",
        "    plt.scatter(x_t,int(y_t),s=500)\n",
        "    # plt.scatter(x_t,int(y_t),s=500)\n",
        "  m, b = np.polyfit(x, y, 1)\n",
        "  m = round(m,2)\n",
        "  b = round(b,2)\n",
        "  x = np.array(x)\n",
        "  y = np.array(y)\n",
        "  plt.plot(x, m*x + b)\n",
        "\n",
        "  plt.grid()\n",
        "  plt.show()\n",
        "  return (x,y)\n",
        "\n",
        "x,y = DDA(2,2,12,5)"
      ],
      "execution_count": null,
      "outputs": [
        {
          "output_type": "display_data",
          "data": {
            "image/png": "[encoded data removed]",
            "text/plain": [
              "<Figure size 432x288 with 1 Axes>"
            ]
          },
          "metadata": {
            "tags": [],
            "needs_background": "light"
          }
        }
      ]
    },
    {
      "cell_type": "code",
      "metadata": {
        "id": "PchszHH2cg9O",
        "colab": {
          "base_uri": "https://localhost:8080/"
        },
        "outputId": "fd20e265-1b2b-4c09-9324-dc78e35b4dab"
      },
      "source": [
        "y"
      ],
      "execution_count": null,
      "outputs": [
        {
          "output_type": "execute_result",
          "data": {
            "text/plain": [
              "array([2. , 2.3, 2.6, 2.9, 3.2, 3.5, 3.8, 4.1, 4.4, 4.7, 5. ])"
            ]
          },
          "metadata": {
            "tags": []
          },
          "execution_count": 185
        }
      ]
    },
    {
      "cell_type": "code",
      "metadata": {
        "colab": {
          "base_uri": "https://localhost:8080/"
        },
        "id": "iXr45xDFdfVx",
        "outputId": "c6312ee1-eb6c-47c6-982d-8c6c65362014"
      },
      "source": [
        "x"
      ],
      "execution_count": null,
      "outputs": [
        {
          "output_type": "execute_result",
          "data": {
            "text/plain": [
              "array([ 2,  3,  4,  5,  6,  7,  8,  9, 10, 11, 12])"
            ]
          },
          "metadata": {
            "tags": []
          },
          "execution_count": 186
        }
      ]
    },
    {
      "cell_type": "code",
      "metadata": {
        "colab": {
          "base_uri": "https://localhost:8080/"
        },
        "id": "pQO-2NEBdv-e",
        "outputId": "c3a64080-169e-46a0-b13e-836b359e9f28"
      },
      "source": [
        "a = list(zip(x,y))\n",
        "a"
      ],
      "execution_count": null,
      "outputs": [
        {
          "output_type": "execute_result",
          "data": {
            "text/plain": [
              "[(2, 2.0),\n",
              " (3, 2.3),\n",
              " (4, 2.6),\n",
              " (5, 2.9),\n",
              " (6, 3.2),\n",
              " (7, 3.5),\n",
              " (8, 3.8),\n",
              " (9, 4.1),\n",
              " (10, 4.4),\n",
              " (11, 4.7),\n",
              " (12, 5.0)]"
            ]
          },
          "metadata": {
            "tags": []
          },
          "execution_count": 187
        }
      ]
    },
    {
      "cell_type": "code",
      "metadata": {
        "colab": {
          "base_uri": "https://localhost:8080/",
          "height": 265
        },
        "id": "x0sIVmupd8NQ",
        "outputId": "a227f3f6-7e82-403e-e63e-246fad340f1b"
      },
      "source": [
        "import numpy as np\n",
        "import matplotlib.pyplot as plt\n",
        "\n",
        "fig, ax = plt.subplots()\n",
        "\n",
        "min_val, max_val = 0, 13\n",
        "\n",
        "intersection_matrix = np.zeros( shape=(max_val, max_val))\n",
        "\n",
        "\n",
        "\n",
        "count = 0\n",
        "for i in range(13):\n",
        "    for j in range(13):\n",
        "        if (i==a[count][0]) and (j==int(a[count][1])):\n",
        "          if (count<len(a)-1):\n",
        "            count+=1\n",
        "          intersection_matrix[i-1,j-1] = 9\n",
        "            \n",
        "\n",
        "ax.matshow(intersection_matrix.T, cmap=plt.cm.Blues, aspect='equal', origin='lower')\n",
        "ax = plt.gca();\n",
        "\n",
        "# Major ticks\n",
        "ax.set_xticks(np.arange(0, 13, 1))\n",
        "ax.set_yticks(np.arange(0, 13, 1))\n",
        "\n",
        "# Labels for major ticks\n",
        "ax.set_xticklabels(np.arange(1, 14, 1))\n",
        "ax.set_yticklabels(np.arange(1, 14, 1))\n",
        "\n",
        "# Minor ticks\n",
        "ax.set_xticks(np.arange(-.5, 13, 1), minor=True)\n",
        "ax.set_yticks(np.arange(-.5, 13, 1), minor=True)\n",
        "\n",
        "# Gridlines based on minor ticks\n",
        "ax.grid(which='minor', color='g', linestyle='-', linewidth=2)\n",
        "ax.xaxis.set_ticks_position('bottom')\n",
        "plt.show()"
      ],
      "execution_count": null,
      "outputs": [
        {
          "output_type": "display_data",
          "data": {
            "image/png": "[encoded data removed]",
            "text/plain": [
              "<Figure size 432x288 with 1 Axes>"
            ]
          },
          "metadata": {
            "tags": [],
            "needs_background": "light"
          }
        }
      ]
    },
    {
      "cell_type": "code",
      "metadata": {
        "colab": {
          "base_uri": "https://localhost:8080/"
        },
        "id": "StclATMpfKYx",
        "outputId": "d0de67a4-a696-4a0b-a940-6afabd591096"
      },
      "source": [
        "intersection_matrix"
      ],
      "execution_count": null,
      "outputs": [
        {
          "output_type": "execute_result",
          "data": {
            "text/plain": [
              "array([[0., 0., 0., 0., 0., 0., 0., 0., 0., 0., 0., 0., 0.],\n",
              "       [0., 9., 0., 0., 0., 0., 0., 0., 0., 0., 0., 0., 0.],\n",
              "       [0., 9., 0., 0., 0., 0., 0., 0., 0., 0., 0., 0., 0.],\n",
              "       [0., 9., 0., 0., 0., 0., 0., 0., 0., 0., 0., 0., 0.],\n",
              "       [0., 9., 0., 0., 0., 0., 0., 0., 0., 0., 0., 0., 0.],\n",
              "       [0., 0., 9., 0., 0., 0., 0., 0., 0., 0., 0., 0., 0.],\n",
              "       [0., 0., 9., 0., 0., 0., 0., 0., 0., 0., 0., 0., 0.],\n",
              "       [0., 0., 9., 0., 0., 0., 0., 0., 0., 0., 0., 0., 0.],\n",
              "       [0., 0., 0., 9., 0., 0., 0., 0., 0., 0., 0., 0., 0.],\n",
              "       [0., 0., 0., 9., 0., 0., 0., 0., 0., 0., 0., 0., 0.],\n",
              "       [0., 0., 0., 9., 0., 0., 0., 0., 0., 0., 0., 0., 0.],\n",
              "       [0., 0., 0., 0., 9., 0., 0., 0., 0., 0., 0., 0., 0.],\n",
              "       [0., 0., 0., 0., 0., 0., 0., 0., 0., 0., 0., 0., 0.]])"
            ]
          },
          "metadata": {
            "tags": []
          },
          "execution_count": 190
        }
      ]
    },
    {
      "cell_type": "code",
      "metadata": {
        "id": "cJ4soWeXfe3T"
      },
      "source": [
        ""
      ],
      "execution_count": null,
      "outputs": []
    }
  ]
}